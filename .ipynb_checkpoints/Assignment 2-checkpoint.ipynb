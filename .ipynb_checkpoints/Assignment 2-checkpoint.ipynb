{
 "cells": [
  {
   "cell_type": "markdown",
   "metadata": {},
   "source": [
    "### Question 1: Age Group Classification"
   ]
  },
  {
   "cell_type": "code",
   "execution_count": 86,
   "metadata": {},
   "outputs": [
    {
     "name": "stdin",
     "output_type": "stream",
     "text": [
      "Enter your age:  87\n"
     ]
    },
    {
     "name": "stdout",
     "output_type": "stream",
     "text": [
      "You are a Senior\n"
     ]
    }
   ],
   "source": [
    "age = int(input(\"Enter your age: \"))\n",
    "\n",
    "if age >= 0 and age <= 12:\n",
    "    print(\"You are a Child\")\n",
    "elif age >= 13 and age <= 19:\n",
    "    print(\"You are a Teenager\")\n",
    "elif age >= 20 and age <= 64:\n",
    "    print(\"You are a Adult\")\n",
    "elif age <= 0:\n",
    "    print(\"Invalid age entered\")\n",
    "else:\n",
    "    print(\"You are a Senior\")"
   ]
  },
  {
   "cell_type": "markdown",
   "metadata": {},
   "source": [
    "### Question 2: Checking for Eligibility for Discount"
   ]
  },
  {
   "cell_type": "code",
   "execution_count": 2,
   "metadata": {},
   "outputs": [
    {
     "name": "stdin",
     "output_type": "stream",
     "text": [
      "Enter your membership type ('premium' or 'regular'):  premium\n",
      "Enter your purchase amount:  5215\n"
     ]
    },
    {
     "name": "stdout",
     "output_type": "stream",
     "text": [
      "You are eligible for discount\n"
     ]
    }
   ],
   "source": [
    "membership = str(input(\"Enter your membership type ('premium' or 'regular'): \"))\n",
    "amount = int(input(\"Enter your purchase amount: \"))\n",
    "\n",
    "if (membership == \"premium\" or membership == \"Premium\") and amount >= 1000:\n",
    "    print(\"You are eligible for discount\")\n",
    "elif (membership == \"regular\" or membership == \"Regular\") and amount >= 2000:\n",
    "    print(\"You are eligible for discount\")\n",
    "else:\n",
    "    print(\"You are not eligible for discount\")"
   ]
  },
  {
   "cell_type": "markdown",
   "metadata": {},
   "source": [
    "### Question 3: Voting Eligibility Check"
   ]
  },
  {
   "cell_type": "code",
   "execution_count": 3,
   "metadata": {},
   "outputs": [
    {
     "name": "stdin",
     "output_type": "stream",
     "text": [
      "Enter your age:  54\n",
      "Enter your Citizenship Status ('Citizen' or 'Non-Citizen'):  citizen\n"
     ]
    },
    {
     "name": "stdout",
     "output_type": "stream",
     "text": [
      "You are eligible to vote\n"
     ]
    }
   ],
   "source": [
    "age = int(input(\"Enter your age: \"))\n",
    "citizenship_status = str(input(\"Enter your Citizenship Status ('Citizen' or 'Non-Citizen'): \"))\n",
    "\n",
    "if age >= 18 and (citizenship_status == \"citizen\" or citizenship_status == \"Citizen\"):\n",
    "    print(\"You are eligible to vote\")\n",
    "elif age >= 16 and (citizenship_status == \"non-citizen\" or citizenship_status == \"Non-Citizen\"):\n",
    "    print(\"You are eligible to vote\")\n",
    "else:\n",
    "    print(\"You are not eligible to vote\")"
   ]
  },
  {
   "cell_type": "markdown",
   "metadata": {},
   "source": [
    "### Question 4: Employee Salary Bonus Eligibility"
   ]
  },
  {
   "cell_type": "code",
   "execution_count": 4,
   "metadata": {},
   "outputs": [
    {
     "name": "stdin",
     "output_type": "stream",
     "text": [
      "Enter your Performance Rating ('Excellent', 'Good' or 'Satisfactory'):  good\n",
      "Enter your Years of Service (in years):  74\n"
     ]
    },
    {
     "name": "stdout",
     "output_type": "stream",
     "text": [
      "You are eligible for bonus\n"
     ]
    }
   ],
   "source": [
    "rating = str(input(\"Enter your Performance Rating ('Excellent', 'Good' or 'Satisfactory'): \"))\n",
    "years_of_service = int(input(\"Enter your Years of Service (in years): \"))\n",
    "\n",
    "if (rating == \"Excellent\" or rating == \"excellent\") and years_of_service >= 5:\n",
    "    print(\"You are eligible for bonus\")\n",
    "elif (rating == \"Good\" or rating == \"good\") and years_of_service >= 10:\n",
    "    print(\"You are eligible for bonus\")\n",
    "elif (rating == \"Satisfactory\" or rating == \"satisfactory\") and years_of_service >= 15:\n",
    "    print(\"You are eligible for bonus\")\n",
    "else:\n",
    "    print(\"You are not eligible for bonus\")"
   ]
  },
  {
   "cell_type": "markdown",
   "metadata": {},
   "source": [
    "### Question 5:"
   ]
  },
  {
   "cell_type": "code",
   "execution_count": 5,
   "metadata": {},
   "outputs": [
    {
     "name": "stdout",
     "output_type": "stream",
     "text": [
      "I'm learning Python Programming\n",
      "I'm_learning_Python_Programming\n",
      "There are 3 underscores\n",
      "The position of first underscore is index no: 3\n"
     ]
    }
   ],
   "source": [
    "use_text = \"I'm learning Python Programming\"\n",
    "print(use_text)\n",
    "list_with_spaces = use_text.split()\n",
    "\n",
    "new_string = '_'.join(list_with_spaces)\n",
    "print(new_string)\n",
    "\n",
    "count = new_string.count(\"_\")\n",
    "print(\"There are\",count,\"underscores\")\n",
    "\n",
    "first_underscore = new_string.find(\"_\")\n",
    "print(\"The position of first underscore is index no:\", first_underscore)"
   ]
  },
  {
   "cell_type": "markdown",
   "metadata": {},
   "source": [
    "### Question 6:"
   ]
  },
  {
   "cell_type": "code",
   "execution_count": 6,
   "metadata": {},
   "outputs": [
    {
     "name": "stdin",
     "output_type": "stream",
     "text": [
      "Enter a string My name is Abdullah Hasn\n"
     ]
    },
    {
     "name": "stdout",
     "output_type": "stream",
     "text": [
      "Every character of the string except last 3:\n",
      "My name is Abdullah H\n",
      "\n",
      "Every second character of the string:\n",
      "M aei bulhHs\n",
      "\n",
      "String in reverse using slicing:\n",
      "nsaH halludbA si eman yM\n"
     ]
    }
   ],
   "source": [
    "input_str = str(input(\"Enter a string\"))\n",
    "print(\"Every character of the string except last 3:\")\n",
    "print(input_str[:-3])\n",
    "print()\n",
    "\n",
    "print(\"Every second character of the string:\")\n",
    "print(input_str[::2])\n",
    "print()\n",
    "\n",
    "print(\"String in reverse using slicing:\")\n",
    "print(input_str[::-1])"
   ]
  },
  {
   "cell_type": "markdown",
   "metadata": {},
   "source": [
    "### Question 7:"
   ]
  },
  {
   "cell_type": "code",
   "execution_count": 7,
   "metadata": {},
   "outputs": [
    {
     "name": "stdout",
     "output_type": "stream",
     "text": [
      "Python learning are We World, Hello\n"
     ]
    }
   ],
   "source": [
    "input_str_1 = \"Hello World, We are learning Python\"\n",
    "list_of_str = input_str_1.split(\" \")\n",
    "reverse_list = list_of_str[::-1]\n",
    "obtained_str = \" \".join(reverse_list)\n",
    "print(obtained_str)"
   ]
  },
  {
   "cell_type": "markdown",
   "metadata": {},
   "source": [
    "### Question 8:"
   ]
  },
  {
   "cell_type": "code",
   "execution_count": 8,
   "metadata": {},
   "outputs": [
    {
     "name": "stdout",
     "output_type": "stream",
     "text": [
      "The number is the product is: 12345\n"
     ]
    }
   ],
   "source": [
    "product_code = \"SKU-12345-XYZ\"\n",
    "product_code_list = product_code.split(\"-\")\n",
    "print(\"The number is the product is:\", product_code_list[1])"
   ]
  },
  {
   "cell_type": "markdown",
   "metadata": {},
   "source": [
    "### Question 9:"
   ]
  },
  {
   "cell_type": "code",
   "execution_count": 83,
   "metadata": {},
   "outputs": [
    {
     "name": "stdin",
     "output_type": "stream",
     "text": [
      "Enter your password:  qwertyQQWYRY2343  #*$HDbbfh\n"
     ]
    },
    {
     "name": "stdout",
     "output_type": "stream",
     "text": [
      "You Password contains Uppercase letters: True\n",
      "You Password contains Lowercase letters: True\n",
      "You Password contains Space: True\n",
      "You Password contains Special Character: # * $ "
     ]
    }
   ],
   "source": [
    "password = input(\"Enter your password: \")\n",
    "\n",
    "is_upper = password != password.lower()\n",
    "is_lower = password != password.upper()\n",
    "contains_space = password.find(\" \") != -1\n",
    "\n",
    "\n",
    "print(\"You Password contains Uppercase letters:\", is_upper)\n",
    "print(\"You Password contains Lowercase letters:\", is_lower)\n",
    "print(\"You Password contains Space:\", contains_space)\n",
    "\n",
    "count = 0\n",
    "for i in password:\n",
    "    if (not i.isalnum() and i.find(\" \") == -1):\n",
    "        if count == 0:\n",
    "            print(\"You Password contains Special Character:\",i, end=\" \")\n",
    "            count = count + 1\n",
    "        else:\n",
    "            print(i, end=\" \")"
   ]
  },
  {
   "cell_type": "markdown",
   "metadata": {},
   "source": [
    "### Question 10:"
   ]
  },
  {
   "cell_type": "code",
   "execution_count": 73,
   "metadata": {},
   "outputs": [
    {
     "name": "stdout",
     "output_type": "stream",
     "text": [
      "The longest word in the string is:  programming\n"
     ]
    }
   ],
   "source": [
    "input_string = \"I love programming in Python\"\n",
    "words = input_string.split()\n",
    "\n",
    "longest_word = max(words, key=len)\n",
    "\n",
    "print(\"The longest word in the string is:\", longest_word)"
   ]
  }
 ],
 "metadata": {
  "kernelspec": {
   "display_name": "Python 3 (ipykernel)",
   "language": "python",
   "name": "python3"
  },
  "language_info": {
   "codemirror_mode": {
    "name": "ipython",
    "version": 3
   },
   "file_extension": ".py",
   "mimetype": "text/x-python",
   "name": "python",
   "nbconvert_exporter": "python",
   "pygments_lexer": "ipython3",
   "version": "3.13.0"
  }
 },
 "nbformat": 4,
 "nbformat_minor": 4
}
